{
  "nbformat": 4,
  "nbformat_minor": 0,
  "metadata": {
    "colab": {
      "provenance": []
    },
    "kernelspec": {
      "name": "python3",
      "display_name": "Python 3"
    },
    "language_info": {
      "name": "python"
    },
    "gpuClass": "standard"
  },
  "cells": [
    {
      "cell_type": "code",
      "execution_count": 1,
      "metadata": {
        "colab": {
          "base_uri": "https://localhost:8080/"
        },
        "id": "_JopIO1CnTd5",
        "outputId": "f873b65e-9a7b-4911-a19a-2857cec2e2d8"
      },
      "outputs": [
        {
          "output_type": "stream",
          "name": "stdout",
          "text": [
            "Drive already mounted at /content/drive; to attempt to forcibly remount, call drive.mount(\"/content/drive\", force_remount=True).\n"
          ]
        }
      ],
      "source": [
        "import sys, os\n",
        "import numpy as np\n",
        "import matplotlib.pyplot as plt\n",
        "from PIL import Image, ImageDraw, ImageFont\n",
        "from tqdm import tqdm\n",
        "from google.colab import drive\n",
        "drive.mount('/content/drive')"
      ]
    },
    {
      "cell_type": "code",
      "source": [
        "font_path = \"/content/drive/MyDrive/fonts\"\n",
        "fonts = os.listdir(font_path)  "
      ],
      "metadata": {
        "id": "WE5iHCr3ng-5"
      },
      "execution_count": 28,
      "outputs": []
    },
    {
      "cell_type": "code",
      "source": [
        "fonts.remove('font_image')\n",
        "print(fonts)"
      ],
      "metadata": {
        "colab": {
          "base_uri": "https://localhost:8080/"
        },
        "id": "7IcjBadwny2B",
        "outputId": "17d535e9-6c8b-4329-97b5-099373c1d0bc"
      },
      "execution_count": 29,
      "outputs": [
        {
          "output_type": "stream",
          "name": "stdout",
          "text": [
            "['나눔손글씨 세아체.TTF', '나눔손글씨 갈맷글.TTF', '나눔손글씨 가람연꽃.TTF', '나눔손글씨 강부장님체.TTF', '나눔손글씨 강인한 위로.TTF', '나눔손글씨 고딕 아니고 고딩.TTF', '나눔손글씨 고려글꼴.TTF', '나눔손글씨 곰신체.TTF', '나눔손글씨 규리의 일기.TTF', '나눔손글씨 금은보화.TTF', '나눔손글씨 기쁨밝음.TTF', '나눔손글씨 김유이체.TTF', '나눔손글씨 꽃내음.TTF', '나눔손글씨 끄트머리체.TTF', '나눔손글씨 나는 이겨낸다.TTF', '나눔손글씨 나무정원.TTF', '나눔손글씨 나의 아내 손글씨.TTF', '나눔손글씨 노력하는 동희.TTF', '나눔손글씨 느릿느릿체.TTF', '나눔손글씨 다시 시작해.TTF', '나눔손글씨 다진체.TTF', '나눔손글씨 다채사랑.TTF', '나눔손글씨 다행체.TTF', '나눔손글씨 달의궤도.TTF', '나눔손글씨 대광유리.TTF', '나눔손글씨 대한민국 열사체.TTF', '나눔손글씨 둥근인연.TTF', '나눔손글씨 따뜻한 작별.TTF', '나눔손글씨 따악단단.TTF', '나눔손글씨 딸에게 엄마가.TTF', '나눔손글씨 또박또박.TTF', '나눔손글씨 배은혜체.ttf', '나눔손글씨 버드나무.ttf', '나눔손글씨 범솜체.ttf', '나눔손글씨 부장님 눈치체.ttf', '나눔손글씨 북극성.ttf', '나눔손글씨 빵구니맘 손글씨.ttf', '나눔손글씨 비상체.ttf', '나눔손글씨 마고체.ttf', '나눔손글씨 몽돌.ttf', '나눔손글씨 맛있는체.ttf', '나눔손글씨 무궁화.ttf', '나눔손글씨 무진장체.ttf', '나눔손글씨 미니 손글씨.ttf', '나눔손글씨 미래나무.ttf', '나눔손글씨 바른정신.ttf', '나눔손글씨 바른히피.ttf', '나눔손글씨 반짝반짝 별.ttf', '나눔손글씨 백의의 천사.ttf']\n"
          ]
        }
      ]
    },
    {
      "cell_type": "code",
      "source": [
        "print(len(fonts))\n"
      ],
      "metadata": {
        "colab": {
          "base_uri": "https://localhost:8080/"
        },
        "id": "hdysm145pEzB",
        "outputId": "89979719-75fb-4e2d-cd18-f119bdb4ecb8"
      },
      "execution_count": 30,
      "outputs": [
        {
          "output_type": "stream",
          "name": "stdout",
          "text": [
            "49\n"
          ]
        }
      ]
    },
    {
      "cell_type": "code",
      "source": [
        "def make_image(letter):\n",
        "  canvas_size = 150\n",
        "  plt.figure(figsize=(15, 15))\n",
        "\n",
        "  for idx, ttf in enumerate(fonts):\n",
        "      try:\n",
        "            print(idx)\n",
        "            font = ImageFont.truetype(font = font_path+\"/\" + ttf, size = 100)\n",
        "            theImage = Image.new('RGB', (canvas_size, canvas_size), color='white')\n",
        "            theDrawPad = ImageDraw.Draw(theImage)\n",
        "            w, h = theDrawPad.textsize(letter, font=font)\n",
        "            theDrawPad.text(((canvas_size-w)/2, (canvas_size-h)/2), letter, fill=(0), font=font)  \n",
        "            plt.imshow(theImage)\n",
        "            plt.show()\n",
        "      except:\n",
        "        print(idx, ttf)\n",
        "\n",
        "'''\n",
        "canvas_size = 100\n",
        "plt.figure(figsize=(15, 15))\n",
        "\n",
        "for idx, ttf in enumerate(fonts):\n",
        "    try:\n",
        "          print(idx)\n",
        "          font = ImageFont.truetype(font = font_path+\"/\" + ttf, size = 100)\n",
        "          theImage = Image.new('RGB', (canvas_size, canvas_size), color='white')\n",
        "          theDrawPad = ImageDraw.Draw(theImage)\n",
        "          w, h = theDrawPad.textsize('ㄱ', font=font)\n",
        "          theDrawPad.text(((canvas_size-w)/2, (canvas_size-h)/2), 'ㄱ', fill=(0), font=font)  \n",
        "          plt.imshow(theImage)\n",
        "          plt.show()\n",
        "    except:\n",
        "      print(idx, ttf)\n",
        "\n",
        "    msg = path + \"/\" + ttf[:-4] + \"_\" + unicodeChars    \n",
        "\n",
        "    theImage.save('{}.png'.format(msg))\n",
        "    '''"
      ],
      "metadata": {
        "colab": {
          "base_uri": "https://localhost:8080/",
          "height": 73
        },
        "id": "PWFws6pln4Mn",
        "outputId": "9629ed99-4961-4de7-e38b-79bd6bc4250c"
      },
      "execution_count": 5,
      "outputs": [
        {
          "output_type": "execute_result",
          "data": {
            "text/plain": [
              "'\\ncanvas_size = 100\\nplt.figure(figsize=(15, 15))\\n\\nfor idx, ttf in enumerate(fonts):\\n    try:\\n          print(idx)\\n          font = ImageFont.truetype(font = font_path+\"/\" + ttf, size = 100)\\n          theImage = Image.new(\\'RGB\\', (canvas_size, canvas_size), color=\\'white\\')\\n          theDrawPad = ImageDraw.Draw(theImage)\\n          w, h = theDrawPad.textsize(\\'ㄱ\\', font=font)\\n          theDrawPad.text(((canvas_size-w)/2, (canvas_size-h)/2), \\'ㄱ\\', fill=(0), font=font)  \\n          plt.imshow(theImage)\\n          plt.show()\\n    except:\\n      print(idx, ttf)\\n\\n    msg = path + \"/\" + ttf[:-4] + \"_\" + unicodeChars    \\n\\n    theImage.save(\\'{}.png\\'.format(msg))\\n    '"
            ],
            "application/vnd.google.colaboratory.intrinsic+json": {
              "type": "string"
            }
          },
          "metadata": {},
          "execution_count": 5
        }
      ]
    },
    {
      "cell_type": "markdown",
      "source": [
        "# 256x256 데이터 만드는 함수 make_newimage"
      ],
      "metadata": {
        "id": "GOWD8GY2xWin"
      }
    },
    {
      "cell_type": "code",
      "source": [
        "def make_newimage(letter):\n",
        "  canvas_size = 150\n",
        "  size = 256,256\n",
        "  plt.figure(figsize=(15, 15))\n",
        "\n",
        "  for idx, ttf in enumerate(fonts):\n",
        "    try:\n",
        "      font = ImageFont.truetype(font = font_path+\"/\" + ttf, size = 100)\n",
        "      theImage = Image.new('RGB', (canvas_size, canvas_size), color='white')\n",
        "      theDrawPad = ImageDraw.Draw(theImage)\n",
        "      w, h = theDrawPad.textsize(letter, font=font)\n",
        "      theDrawPad.text(((canvas_size-w)/2, (canvas_size-h)/2), letter, fill=(0), font=font)  \n",
        "      new_img = Image.new(\"RGB\", (256,256), \"white\")\n",
        "      theImage.thumbnail(size, Image.ANTIALIAS)\n",
        "      load_img = theImage.load()\n",
        "      load_newimg = new_img.load()\n",
        "      i_offset = (256 - theImage.size[0]) / 2\n",
        "      j_offset = (256 - theImage.size[1]) / 2\n",
        "      for i in range(0, theImage.size[0]):\n",
        "        for j in range(0, theImage.size[1]):\n",
        "          load_newimg[i + i_offset,j + j_offset] = load_img[i,j]\n",
        "      index = str(idx)+\"_\" + str(ord(letter))\n",
        "      msg = \"/content/drive/MyDrive/fonts/font_image\"+ \"/\" + index\n",
        "      new_img.save('{}.png'.format(msg))\n",
        "    except:\n",
        "      print(idx, ttf)\n",
        "        "
      ],
      "metadata": {
        "id": "SwA6JRvIv4CX"
      },
      "execution_count": 32,
      "outputs": []
    },
    {
      "cell_type": "code",
      "source": [
        "jaeum = ['ㄱ','ㄲ','ㄴ','ㄷ','ㄸ','ㄹ','ㅁ','ㅂ','ㅃ','ㅅ','ㅆ','ㅇ','ㅈ','ㅉ','ㅊ','ㅋ','ㅌ','ㅍ','ㅎ','ㄳ','ㄵ','ㄶ','ㄺ','ㄻ','ㄼ','ㄽ','ㄾ','ㄿ','ㅀ','ㅄ']\n",
        "moeum = ['ㅏ','ㅐ','ㅑ','ㅒ','ㅓ','ㅔ','ㅕ','ㅖ','ㅗ','ㅘ','ㅙ','ㅚ','ㅛ','ㅜ','ㅝ','ㅞ','ㅟ','ㅠ','ㅡ','ㅢ','ㅣ']\n",
        "\n",
        "\n",
        "for i in jaeum:\n",
        "  make_newimage(i)\n",
        "\n",
        "for j in moeum:\n",
        "  make_newimage(j)\n"
      ],
      "metadata": {
        "colab": {
          "base_uri": "https://localhost:8080/",
          "height": 1000
        },
        "id": "Q8k3Sf4Sq9KB",
        "outputId": "8b174e09-ac5b-4583-d5c3-357a37bbe340"
      },
      "execution_count": 33,
      "outputs": [
        {
          "output_type": "stream",
          "name": "stderr",
          "text": [
            "<ipython-input-32-bcd31d1adea4>:4: RuntimeWarning: More than 20 figures have been opened. Figures created through the pyplot interface (`matplotlib.pyplot.figure`) are retained until explicitly closed and may consume too much memory. (To control this warning, see the rcParam `figure.max_open_warning`).\n",
            "  plt.figure(figsize=(15, 15))\n"
          ]
        },
        {
          "output_type": "display_data",
          "data": {
            "text/plain": [
              "<Figure size 1080x1080 with 0 Axes>"
            ]
          },
          "metadata": {}
        },
        {
          "output_type": "display_data",
          "data": {
            "text/plain": [
              "<Figure size 1080x1080 with 0 Axes>"
            ]
          },
          "metadata": {}
        },
        {
          "output_type": "display_data",
          "data": {
            "text/plain": [
              "<Figure size 1080x1080 with 0 Axes>"
            ]
          },
          "metadata": {}
        },
        {
          "output_type": "display_data",
          "data": {
            "text/plain": [
              "<Figure size 1080x1080 with 0 Axes>"
            ]
          },
          "metadata": {}
        },
        {
          "output_type": "display_data",
          "data": {
            "text/plain": [
              "<Figure size 1080x1080 with 0 Axes>"
            ]
          },
          "metadata": {}
        },
        {
          "output_type": "display_data",
          "data": {
            "text/plain": [
              "<Figure size 1080x1080 with 0 Axes>"
            ]
          },
          "metadata": {}
        },
        {
          "output_type": "display_data",
          "data": {
            "text/plain": [
              "<Figure size 1080x1080 with 0 Axes>"
            ]
          },
          "metadata": {}
        },
        {
          "output_type": "display_data",
          "data": {
            "text/plain": [
              "<Figure size 1080x1080 with 0 Axes>"
            ]
          },
          "metadata": {}
        },
        {
          "output_type": "display_data",
          "data": {
            "text/plain": [
              "<Figure size 1080x1080 with 0 Axes>"
            ]
          },
          "metadata": {}
        },
        {
          "output_type": "display_data",
          "data": {
            "text/plain": [
              "<Figure size 1080x1080 with 0 Axes>"
            ]
          },
          "metadata": {}
        },
        {
          "output_type": "display_data",
          "data": {
            "text/plain": [
              "<Figure size 1080x1080 with 0 Axes>"
            ]
          },
          "metadata": {}
        },
        {
          "output_type": "display_data",
          "data": {
            "text/plain": [
              "<Figure size 1080x1080 with 0 Axes>"
            ]
          },
          "metadata": {}
        },
        {
          "output_type": "display_data",
          "data": {
            "text/plain": [
              "<Figure size 1080x1080 with 0 Axes>"
            ]
          },
          "metadata": {}
        },
        {
          "output_type": "display_data",
          "data": {
            "text/plain": [
              "<Figure size 1080x1080 with 0 Axes>"
            ]
          },
          "metadata": {}
        },
        {
          "output_type": "display_data",
          "data": {
            "text/plain": [
              "<Figure size 1080x1080 with 0 Axes>"
            ]
          },
          "metadata": {}
        },
        {
          "output_type": "display_data",
          "data": {
            "text/plain": [
              "<Figure size 1080x1080 with 0 Axes>"
            ]
          },
          "metadata": {}
        },
        {
          "output_type": "display_data",
          "data": {
            "text/plain": [
              "<Figure size 1080x1080 with 0 Axes>"
            ]
          },
          "metadata": {}
        },
        {
          "output_type": "display_data",
          "data": {
            "text/plain": [
              "<Figure size 1080x1080 with 0 Axes>"
            ]
          },
          "metadata": {}
        },
        {
          "output_type": "display_data",
          "data": {
            "text/plain": [
              "<Figure size 1080x1080 with 0 Axes>"
            ]
          },
          "metadata": {}
        },
        {
          "output_type": "display_data",
          "data": {
            "text/plain": [
              "<Figure size 1080x1080 with 0 Axes>"
            ]
          },
          "metadata": {}
        },
        {
          "output_type": "display_data",
          "data": {
            "text/plain": [
              "<Figure size 1080x1080 with 0 Axes>"
            ]
          },
          "metadata": {}
        },
        {
          "output_type": "display_data",
          "data": {
            "text/plain": [
              "<Figure size 1080x1080 with 0 Axes>"
            ]
          },
          "metadata": {}
        },
        {
          "output_type": "display_data",
          "data": {
            "text/plain": [
              "<Figure size 1080x1080 with 0 Axes>"
            ]
          },
          "metadata": {}
        },
        {
          "output_type": "display_data",
          "data": {
            "text/plain": [
              "<Figure size 1080x1080 with 0 Axes>"
            ]
          },
          "metadata": {}
        },
        {
          "output_type": "display_data",
          "data": {
            "text/plain": [
              "<Figure size 1080x1080 with 0 Axes>"
            ]
          },
          "metadata": {}
        },
        {
          "output_type": "display_data",
          "data": {
            "text/plain": [
              "<Figure size 1080x1080 with 0 Axes>"
            ]
          },
          "metadata": {}
        },
        {
          "output_type": "display_data",
          "data": {
            "text/plain": [
              "<Figure size 1080x1080 with 0 Axes>"
            ]
          },
          "metadata": {}
        },
        {
          "output_type": "display_data",
          "data": {
            "text/plain": [
              "<Figure size 1080x1080 with 0 Axes>"
            ]
          },
          "metadata": {}
        },
        {
          "output_type": "display_data",
          "data": {
            "text/plain": [
              "<Figure size 1080x1080 with 0 Axes>"
            ]
          },
          "metadata": {}
        },
        {
          "output_type": "display_data",
          "data": {
            "text/plain": [
              "<Figure size 1080x1080 with 0 Axes>"
            ]
          },
          "metadata": {}
        },
        {
          "output_type": "display_data",
          "data": {
            "text/plain": [
              "<Figure size 1080x1080 with 0 Axes>"
            ]
          },
          "metadata": {}
        },
        {
          "output_type": "display_data",
          "data": {
            "text/plain": [
              "<Figure size 1080x1080 with 0 Axes>"
            ]
          },
          "metadata": {}
        },
        {
          "output_type": "display_data",
          "data": {
            "text/plain": [
              "<Figure size 1080x1080 with 0 Axes>"
            ]
          },
          "metadata": {}
        },
        {
          "output_type": "display_data",
          "data": {
            "text/plain": [
              "<Figure size 1080x1080 with 0 Axes>"
            ]
          },
          "metadata": {}
        },
        {
          "output_type": "display_data",
          "data": {
            "text/plain": [
              "<Figure size 1080x1080 with 0 Axes>"
            ]
          },
          "metadata": {}
        },
        {
          "output_type": "display_data",
          "data": {
            "text/plain": [
              "<Figure size 1080x1080 with 0 Axes>"
            ]
          },
          "metadata": {}
        },
        {
          "output_type": "display_data",
          "data": {
            "text/plain": [
              "<Figure size 1080x1080 with 0 Axes>"
            ]
          },
          "metadata": {}
        },
        {
          "output_type": "display_data",
          "data": {
            "text/plain": [
              "<Figure size 1080x1080 with 0 Axes>"
            ]
          },
          "metadata": {}
        },
        {
          "output_type": "display_data",
          "data": {
            "text/plain": [
              "<Figure size 1080x1080 with 0 Axes>"
            ]
          },
          "metadata": {}
        },
        {
          "output_type": "display_data",
          "data": {
            "text/plain": [
              "<Figure size 1080x1080 with 0 Axes>"
            ]
          },
          "metadata": {}
        },
        {
          "output_type": "display_data",
          "data": {
            "text/plain": [
              "<Figure size 1080x1080 with 0 Axes>"
            ]
          },
          "metadata": {}
        },
        {
          "output_type": "display_data",
          "data": {
            "text/plain": [
              "<Figure size 1080x1080 with 0 Axes>"
            ]
          },
          "metadata": {}
        },
        {
          "output_type": "display_data",
          "data": {
            "text/plain": [
              "<Figure size 1080x1080 with 0 Axes>"
            ]
          },
          "metadata": {}
        },
        {
          "output_type": "display_data",
          "data": {
            "text/plain": [
              "<Figure size 1080x1080 with 0 Axes>"
            ]
          },
          "metadata": {}
        },
        {
          "output_type": "display_data",
          "data": {
            "text/plain": [
              "<Figure size 1080x1080 with 0 Axes>"
            ]
          },
          "metadata": {}
        },
        {
          "output_type": "display_data",
          "data": {
            "text/plain": [
              "<Figure size 1080x1080 with 0 Axes>"
            ]
          },
          "metadata": {}
        },
        {
          "output_type": "display_data",
          "data": {
            "text/plain": [
              "<Figure size 1080x1080 with 0 Axes>"
            ]
          },
          "metadata": {}
        },
        {
          "output_type": "display_data",
          "data": {
            "text/plain": [
              "<Figure size 1080x1080 with 0 Axes>"
            ]
          },
          "metadata": {}
        },
        {
          "output_type": "display_data",
          "data": {
            "text/plain": [
              "<Figure size 1080x1080 with 0 Axes>"
            ]
          },
          "metadata": {}
        },
        {
          "output_type": "display_data",
          "data": {
            "text/plain": [
              "<Figure size 1080x1080 with 0 Axes>"
            ]
          },
          "metadata": {}
        },
        {
          "output_type": "display_data",
          "data": {
            "text/plain": [
              "<Figure size 1080x1080 with 0 Axes>"
            ]
          },
          "metadata": {}
        }
      ]
    },
    {
      "cell_type": "code",
      "source": [
        "print(49 * 51)\n",
        "font_images = os.listdir(\"/content/drive/MyDrive/fonts/font_image\") \n",
        "print(len(font_images))"
      ],
      "metadata": {
        "colab": {
          "base_uri": "https://localhost:8080/"
        },
        "id": "fsX5v65W6-bd",
        "outputId": "b423d147-3ed2-4b6d-a935-c6486992d663"
      },
      "execution_count": 34,
      "outputs": [
        {
          "output_type": "stream",
          "name": "stdout",
          "text": [
            "2499\n",
            "2499\n"
          ]
        }
      ]
    }
  ]
}