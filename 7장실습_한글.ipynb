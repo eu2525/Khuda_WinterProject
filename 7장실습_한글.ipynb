{
  "nbformat": 4,
  "nbformat_minor": 0,
  "metadata": {
    "colab": {
      "provenance": []
    },
    "kernelspec": {
      "name": "python3",
      "display_name": "Python 3"
    },
    "language_info": {
      "name": "python"
    },
    "accelerator": "GPU",
    "gpuClass": "standard"
  },
  "cells": [
    {
      "cell_type": "code",
      "execution_count": null,
      "metadata": {
        "colab": {
          "base_uri": "https://localhost:8080/"
        },
        "id": "vmomatgkrtwV",
        "outputId": "dac06a6d-5629-4954-9312-e3faf44d42df"
      },
      "outputs": [
        {
          "output_type": "stream",
          "name": "stdout",
          "text": [
            "Mounted at drive\n"
          ]
        }
      ],
      "source": [
        "# 1-2. Google Drive 연동\n",
        "from google.colab import drive\n",
        "drive.mount('drive')"
      ]
    },
    {
      "cell_type": "code",
      "source": [
        "# 1-1. 패키지 호출\n",
        "import numpy as np\n",
        "import pandas as pd\n",
        "import matplotlib.pyplot as plt\n",
        "\n",
        "import sys, os\n",
        "import tensorflow as tf\n",
        "from tensorflow.keras.layers import Dense\n",
        "from tensorflow.keras.models import Sequential\n",
        "from tensorflow.keras.optimizers import Adam\n",
        "from sklearn.model_selection import train_test_split\n",
        "import cv2"
      ],
      "metadata": {
        "id": "ICJ8-MLGr2Ag"
      },
      "execution_count": null,
      "outputs": []
    },
    {
      "cell_type": "code",
      "source": [
        "font_images = os.listdir(\"/content/drive/MyDrive/fonts/32_font\") "
      ],
      "metadata": {
        "id": "kozf8s20sCRf"
      },
      "execution_count": null,
      "outputs": []
    },
    {
      "cell_type": "code",
      "source": [
        "X = []\n",
        "fontpath = \"/content/drive/MyDrive/fonts/32_font/\"\n",
        "for imagename in font_images:\n",
        "  img_path = os.path.join(fontpath, imagename)\n",
        "  img = cv2.imread(img_path,cv2.IMREAD_GRAYSCALE)\n",
        "  X.append(img)\n",
        "  \n",
        "Y = []\n",
        "for name in font_images:\n",
        "  font_name = name[-9:-4]\n",
        "  Y.append(font_name)"
      ],
      "metadata": {
        "id": "gbxc-0thseW_"
      },
      "execution_count": null,
      "outputs": []
    },
    {
      "cell_type": "code",
      "source": [
        "syllable = list(set(Y))\n",
        "syllable_to_index = {syllable: index for index, syllable in enumerate(syllable)}\n",
        "\n",
        "Y_idx = []\n",
        "\n",
        "for idx in Y:\n",
        "  font_idx = syllable_to_index[idx]\n",
        "  Y_idx.append(font_idx)"
      ],
      "metadata": {
        "id": "ozd4zOTi1GO7"
      },
      "execution_count": null,
      "outputs": []
    },
    {
      "cell_type": "code",
      "source": [
        "X = np.array(X)\n",
        "Y_idx = np.array(Y_idx)"
      ],
      "metadata": {
        "id": "U0naMPeuvH1g"
      },
      "execution_count": null,
      "outputs": []
    },
    {
      "cell_type": "code",
      "source": [
        "X_train, X_test, y_train, y_test = train_test_split(X, Y_idx, test_size=0.3, shuffle=True, random_state=1004)"
      ],
      "metadata": {
        "id": "8Jdhc4SduDPj"
      },
      "execution_count": null,
      "outputs": []
    },
    {
      "cell_type": "code",
      "source": [
        "print('X_train shape:', X_train.shape)\n",
        "print('X_test shape:', X_test.shape)\n",
        "print('y_train shape:', y_train.shape)\n",
        "print('y_test shape:', y_test.shape)"
      ],
      "metadata": {
        "colab": {
          "base_uri": "https://localhost:8080/"
        },
        "id": "AmY5pb0vumAY",
        "outputId": "7a58eac8-1243-45e8-d4e2-dc8a6737629f"
      },
      "execution_count": null,
      "outputs": [
        {
          "output_type": "stream",
          "name": "stdout",
          "text": [
            "X_train shape: (823, 32, 32)\n",
            "X_test shape: (353, 32, 32)\n",
            "y_train shape: (823,)\n",
            "y_test shape: (353,)\n"
          ]
        }
      ]
    },
    {
      "cell_type": "code",
      "source": [
        "plt.figure(figsize=(24,3))\n",
        "plt.suptitle('hangul',fontsize = 25)\n",
        "\n",
        "for i in range(10):\n",
        "  plt.subplot(1,10,i+1)\n",
        "  plt.imshow(X_train[i],cmap='gray')\n",
        "  plt.xticks([])\n",
        "  plt.yticks([])"
      ],
      "metadata": {
        "colab": {
          "base_uri": "https://localhost:8080/",
          "height": 201
        },
        "id": "7FyM7XQJvbYk",
        "outputId": "21405545-ffee-4679-8ee2-02a25064a816"
      },
      "execution_count": null,
      "outputs": [
        {
          "output_type": "display_data",
          "data": {
            "text/plain": [
              "<Figure size 2400x300 with 10 Axes>"
            ],
            "image/png": "[encoded data removed]"
          },
          "metadata": {}
        }
      ]
    },
    {
      "cell_type": "code",
      "source": [
        "x_train = X_train.reshape(823,32*32)\n",
        "x_test = X_test.reshape(353,32*32)\n",
        "x_train = x_train.astype(np.float32)/255.0\n",
        "x_test = x_test.astype(np.float32)/255.0\n",
        "\n",
        "y_train = tf.keras.utils.to_categorical(y_train,14)\n",
        "y_test = tf.keras.utils.to_categorical(y_test,14)"
      ],
      "metadata": {
        "id": "12xpoDnJyL1h"
      },
      "execution_count": null,
      "outputs": []
    },
    {
      "cell_type": "code",
      "source": [
        "dmlp = Sequential()\n",
        "dmlp.add(Dense(units=1024,activation ='tanh', input_shape = (32*32,)))\n",
        "dmlp.add(Dense(units= 512, activation = 'relu'))\n",
        "dmlp.add(Dense(units= 512, activation = 'relu'))\n",
        "dmlp.add(Dense(units= 14, activation = 'softmax'))\n",
        "\n",
        "dmlp.compile(loss='categorical_crossentropy', optimizer=Adam(learning_rate = 0.0001), metrics=['accuracy'])\n",
        "hist= dmlp.fit(x_train,y_train,\n",
        "        epochs= 100,\n",
        "        batch_size = 128,\n",
        "        validation_data=(x_test,y_test),\n",
        "        verbose = 2)\n",
        "\n",
        "print(\"정확률=\",dmlp.evaluate(x_test,y_test,verbose = 0)[1] * 100)"
      ],
      "metadata": {
        "colab": {
          "base_uri": "https://localhost:8080/"
        },
        "id": "pMtwCyqHzAzD",
        "outputId": "9f059ba8-ee99-4779-b0d1-8052420fc6fd"
      },
      "execution_count": null,
      "outputs": [
        {
          "output_type": "stream",
          "name": "stdout",
          "text": [
            "Epoch 1/100\n",
            "7/7 - 2s - loss: 2.6941 - accuracy: 0.0851 - val_loss: 2.6289 - val_accuracy: 0.0878 - 2s/epoch - 230ms/step\n",
            "Epoch 2/100\n",
            "7/7 - 0s - loss: 2.6118 - accuracy: 0.0996 - val_loss: 2.5983 - val_accuracy: 0.1105 - 67ms/epoch - 10ms/step\n",
            "Epoch 3/100\n",
            "7/7 - 0s - loss: 2.5782 - accuracy: 0.1507 - val_loss: 2.5722 - val_accuracy: 0.1445 - 52ms/epoch - 7ms/step\n",
            "Epoch 4/100\n",
            "7/7 - 0s - loss: 2.5353 - accuracy: 0.1920 - val_loss: 2.5363 - val_accuracy: 0.1926 - 63ms/epoch - 9ms/step\n",
            "Epoch 5/100\n",
            "7/7 - 0s - loss: 2.4884 - accuracy: 0.2612 - val_loss: 2.5156 - val_accuracy: 0.1813 - 57ms/epoch - 8ms/step\n",
            "Epoch 6/100\n",
            "7/7 - 0s - loss: 2.4558 - accuracy: 0.2224 - val_loss: 2.4765 - val_accuracy: 0.2606 - 53ms/epoch - 8ms/step\n",
            "Epoch 7/100\n",
            "7/7 - 0s - loss: 2.4162 - accuracy: 0.2479 - val_loss: 2.4574 - val_accuracy: 0.1870 - 52ms/epoch - 7ms/step\n",
            "Epoch 8/100\n",
            "7/7 - 0s - loss: 2.3600 - accuracy: 0.2977 - val_loss: 2.3954 - val_accuracy: 0.2380 - 64ms/epoch - 9ms/step\n",
            "Epoch 9/100\n",
            "7/7 - 0s - loss: 2.3037 - accuracy: 0.3281 - val_loss: 2.3806 - val_accuracy: 0.2153 - 54ms/epoch - 8ms/step\n",
            "Epoch 10/100\n",
            "7/7 - 0s - loss: 2.2587 - accuracy: 0.3426 - val_loss: 2.3343 - val_accuracy: 0.2946 - 85ms/epoch - 12ms/step\n",
            "Epoch 11/100\n",
            "7/7 - 0s - loss: 2.2234 - accuracy: 0.3888 - val_loss: 2.2845 - val_accuracy: 0.2748 - 97ms/epoch - 14ms/step\n",
            "Epoch 12/100\n",
            "7/7 - 0s - loss: 2.1613 - accuracy: 0.3694 - val_loss: 2.2511 - val_accuracy: 0.3399 - 81ms/epoch - 12ms/step\n",
            "Epoch 13/100\n",
            "7/7 - 0s - loss: 2.1098 - accuracy: 0.4180 - val_loss: 2.1960 - val_accuracy: 0.3003 - 81ms/epoch - 12ms/step\n",
            "Epoch 14/100\n",
            "7/7 - 0s - loss: 2.0605 - accuracy: 0.4058 - val_loss: 2.2024 - val_accuracy: 0.2975 - 98ms/epoch - 14ms/step\n",
            "Epoch 15/100\n",
            "7/7 - 0s - loss: 2.0078 - accuracy: 0.4423 - val_loss: 2.1176 - val_accuracy: 0.4051 - 85ms/epoch - 12ms/step\n",
            "Epoch 16/100\n",
            "7/7 - 0s - loss: 1.9548 - accuracy: 0.4593 - val_loss: 2.1051 - val_accuracy: 0.3201 - 77ms/epoch - 11ms/step\n",
            "Epoch 17/100\n",
            "7/7 - 0s - loss: 1.9545 - accuracy: 0.4617 - val_loss: 2.0647 - val_accuracy: 0.3824 - 79ms/epoch - 11ms/step\n",
            "Epoch 18/100\n",
            "7/7 - 0s - loss: 1.8956 - accuracy: 0.4423 - val_loss: 2.0520 - val_accuracy: 0.3683 - 87ms/epoch - 12ms/step\n",
            "Epoch 19/100\n",
            "7/7 - 0s - loss: 1.8430 - accuracy: 0.4800 - val_loss: 2.0094 - val_accuracy: 0.3768 - 87ms/epoch - 12ms/step\n",
            "Epoch 20/100\n",
            "7/7 - 0s - loss: 1.7690 - accuracy: 0.4933 - val_loss: 2.0032 - val_accuracy: 0.3513 - 85ms/epoch - 12ms/step\n",
            "Epoch 21/100\n",
            "7/7 - 0s - loss: 1.7620 - accuracy: 0.4885 - val_loss: 1.9320 - val_accuracy: 0.3966 - 90ms/epoch - 13ms/step\n",
            "Epoch 22/100\n",
            "7/7 - 0s - loss: 1.7013 - accuracy: 0.5298 - val_loss: 1.9022 - val_accuracy: 0.4391 - 81ms/epoch - 12ms/step\n",
            "Epoch 23/100\n",
            "7/7 - 0s - loss: 1.6605 - accuracy: 0.5286 - val_loss: 1.8807 - val_accuracy: 0.4334 - 84ms/epoch - 12ms/step\n",
            "Epoch 24/100\n",
            "7/7 - 0s - loss: 1.6050 - accuracy: 0.5589 - val_loss: 1.8554 - val_accuracy: 0.4504 - 73ms/epoch - 10ms/step\n",
            "Epoch 25/100\n",
            "7/7 - 0s - loss: 1.5750 - accuracy: 0.5784 - val_loss: 1.8482 - val_accuracy: 0.4504 - 70ms/epoch - 10ms/step\n",
            "Epoch 26/100\n",
            "7/7 - 0s - loss: 1.5473 - accuracy: 0.5577 - val_loss: 1.8115 - val_accuracy: 0.4618 - 70ms/epoch - 10ms/step\n",
            "Epoch 27/100\n",
            "7/7 - 0s - loss: 1.5119 - accuracy: 0.5917 - val_loss: 1.7641 - val_accuracy: 0.4731 - 70ms/epoch - 10ms/step\n",
            "Epoch 28/100\n",
            "7/7 - 0s - loss: 1.4675 - accuracy: 0.6063 - val_loss: 1.7213 - val_accuracy: 0.4986 - 74ms/epoch - 11ms/step\n",
            "Epoch 29/100\n",
            "7/7 - 0s - loss: 1.4313 - accuracy: 0.6075 - val_loss: 1.7016 - val_accuracy: 0.5127 - 71ms/epoch - 10ms/step\n",
            "Epoch 30/100\n",
            "7/7 - 0s - loss: 1.4047 - accuracy: 0.6075 - val_loss: 1.6740 - val_accuracy: 0.5184 - 73ms/epoch - 10ms/step\n",
            "Epoch 31/100\n",
            "7/7 - 0s - loss: 1.3442 - accuracy: 0.6245 - val_loss: 1.6801 - val_accuracy: 0.4731 - 85ms/epoch - 12ms/step\n",
            "Epoch 32/100\n",
            "7/7 - 0s - loss: 1.2968 - accuracy: 0.6476 - val_loss: 1.7156 - val_accuracy: 0.4731 - 80ms/epoch - 11ms/step\n",
            "Epoch 33/100\n",
            "7/7 - 0s - loss: 1.2914 - accuracy: 0.6501 - val_loss: 1.6841 - val_accuracy: 0.4674 - 72ms/epoch - 10ms/step\n",
            "Epoch 34/100\n",
            "7/7 - 0s - loss: 1.2580 - accuracy: 0.6671 - val_loss: 1.6682 - val_accuracy: 0.4788 - 79ms/epoch - 11ms/step\n",
            "Epoch 35/100\n",
            "7/7 - 0s - loss: 1.2348 - accuracy: 0.6683 - val_loss: 1.6700 - val_accuracy: 0.4901 - 78ms/epoch - 11ms/step\n",
            "Epoch 36/100\n",
            "7/7 - 0s - loss: 1.2577 - accuracy: 0.6403 - val_loss: 1.6624 - val_accuracy: 0.4788 - 70ms/epoch - 10ms/step\n",
            "Epoch 37/100\n",
            "7/7 - 0s - loss: 1.2055 - accuracy: 0.6610 - val_loss: 1.5994 - val_accuracy: 0.5269 - 84ms/epoch - 12ms/step\n",
            "Epoch 38/100\n",
            "7/7 - 0s - loss: 1.1606 - accuracy: 0.6792 - val_loss: 1.6121 - val_accuracy: 0.5156 - 71ms/epoch - 10ms/step\n",
            "Epoch 39/100\n",
            "7/7 - 0s - loss: 1.1485 - accuracy: 0.6780 - val_loss: 1.5895 - val_accuracy: 0.5184 - 82ms/epoch - 12ms/step\n",
            "Epoch 40/100\n",
            "7/7 - 0s - loss: 1.1111 - accuracy: 0.6889 - val_loss: 1.6968 - val_accuracy: 0.4844 - 77ms/epoch - 11ms/step\n",
            "Epoch 41/100\n",
            "7/7 - 0s - loss: 1.1184 - accuracy: 0.6938 - val_loss: 1.6577 - val_accuracy: 0.4929 - 69ms/epoch - 10ms/step\n",
            "Epoch 42/100\n",
            "7/7 - 0s - loss: 1.1303 - accuracy: 0.6768 - val_loss: 1.6419 - val_accuracy: 0.4986 - 73ms/epoch - 10ms/step\n",
            "Epoch 43/100\n",
            "7/7 - 0s - loss: 1.0659 - accuracy: 0.7169 - val_loss: 1.5308 - val_accuracy: 0.5354 - 66ms/epoch - 9ms/step\n",
            "Epoch 44/100\n",
            "7/7 - 0s - loss: 1.0201 - accuracy: 0.7400 - val_loss: 1.5586 - val_accuracy: 0.5184 - 75ms/epoch - 11ms/step\n",
            "Epoch 45/100\n",
            "7/7 - 0s - loss: 0.9820 - accuracy: 0.7400 - val_loss: 1.5018 - val_accuracy: 0.5411 - 74ms/epoch - 11ms/step\n",
            "Epoch 46/100\n",
            "7/7 - 0s - loss: 0.9738 - accuracy: 0.7327 - val_loss: 1.5551 - val_accuracy: 0.4958 - 96ms/epoch - 14ms/step\n",
            "Epoch 47/100\n",
            "7/7 - 0s - loss: 0.9619 - accuracy: 0.7205 - val_loss: 1.5789 - val_accuracy: 0.5099 - 87ms/epoch - 12ms/step\n",
            "Epoch 48/100\n",
            "7/7 - 0s - loss: 0.9627 - accuracy: 0.7230 - val_loss: 1.4657 - val_accuracy: 0.5722 - 127ms/epoch - 18ms/step\n",
            "Epoch 49/100\n",
            "7/7 - 0s - loss: 0.9132 - accuracy: 0.7655 - val_loss: 1.4705 - val_accuracy: 0.5467 - 85ms/epoch - 12ms/step\n",
            "Epoch 50/100\n",
            "7/7 - 0s - loss: 0.8862 - accuracy: 0.7594 - val_loss: 1.4954 - val_accuracy: 0.5212 - 68ms/epoch - 10ms/step\n",
            "Epoch 51/100\n",
            "7/7 - 0s - loss: 0.8550 - accuracy: 0.7776 - val_loss: 1.4697 - val_accuracy: 0.5467 - 63ms/epoch - 9ms/step\n",
            "Epoch 52/100\n",
            "7/7 - 0s - loss: 0.8377 - accuracy: 0.7922 - val_loss: 1.5001 - val_accuracy: 0.5552 - 50ms/epoch - 7ms/step\n",
            "Epoch 53/100\n",
            "7/7 - 0s - loss: 0.8593 - accuracy: 0.7752 - val_loss: 1.4683 - val_accuracy: 0.5609 - 75ms/epoch - 11ms/step\n",
            "Epoch 54/100\n",
            "7/7 - 0s - loss: 0.8342 - accuracy: 0.7485 - val_loss: 1.4835 - val_accuracy: 0.5411 - 54ms/epoch - 8ms/step\n",
            "Epoch 55/100\n",
            "7/7 - 0s - loss: 0.7904 - accuracy: 0.7971 - val_loss: 1.4505 - val_accuracy: 0.5637 - 54ms/epoch - 8ms/step\n",
            "Epoch 56/100\n",
            "7/7 - 0s - loss: 0.7734 - accuracy: 0.7983 - val_loss: 1.4633 - val_accuracy: 0.5439 - 67ms/epoch - 10ms/step\n",
            "Epoch 57/100\n",
            "7/7 - 0s - loss: 0.7672 - accuracy: 0.7971 - val_loss: 1.4430 - val_accuracy: 0.5666 - 77ms/epoch - 11ms/step\n",
            "Epoch 58/100\n",
            "7/7 - 0s - loss: 0.7665 - accuracy: 0.7849 - val_loss: 1.4391 - val_accuracy: 0.5581 - 73ms/epoch - 10ms/step\n",
            "Epoch 59/100\n",
            "7/7 - 0s - loss: 0.7633 - accuracy: 0.8019 - val_loss: 1.5035 - val_accuracy: 0.5524 - 58ms/epoch - 8ms/step\n",
            "Epoch 60/100\n",
            "7/7 - 0s - loss: 0.7380 - accuracy: 0.8032 - val_loss: 1.4609 - val_accuracy: 0.5467 - 75ms/epoch - 11ms/step\n",
            "Epoch 61/100\n",
            "7/7 - 0s - loss: 0.6862 - accuracy: 0.8335 - val_loss: 1.4848 - val_accuracy: 0.5326 - 60ms/epoch - 9ms/step\n",
            "Epoch 62/100\n",
            "7/7 - 0s - loss: 0.6778 - accuracy: 0.8275 - val_loss: 1.3966 - val_accuracy: 0.5581 - 59ms/epoch - 8ms/step\n",
            "Epoch 63/100\n",
            "7/7 - 0s - loss: 0.6367 - accuracy: 0.8615 - val_loss: 1.4294 - val_accuracy: 0.5779 - 74ms/epoch - 11ms/step\n",
            "Epoch 64/100\n",
            "7/7 - 0s - loss: 0.6237 - accuracy: 0.8505 - val_loss: 1.4139 - val_accuracy: 0.5807 - 61ms/epoch - 9ms/step\n",
            "Epoch 65/100\n",
            "7/7 - 0s - loss: 0.6392 - accuracy: 0.8299 - val_loss: 1.4998 - val_accuracy: 0.5581 - 69ms/epoch - 10ms/step\n",
            "Epoch 66/100\n",
            "7/7 - 0s - loss: 0.6775 - accuracy: 0.8202 - val_loss: 1.3980 - val_accuracy: 0.5694 - 58ms/epoch - 8ms/step\n",
            "Epoch 67/100\n",
            "7/7 - 0s - loss: 0.6139 - accuracy: 0.8591 - val_loss: 1.4713 - val_accuracy: 0.5382 - 57ms/epoch - 8ms/step\n",
            "Epoch 68/100\n",
            "7/7 - 0s - loss: 0.5817 - accuracy: 0.8651 - val_loss: 1.3869 - val_accuracy: 0.5836 - 58ms/epoch - 8ms/step\n",
            "Epoch 69/100\n",
            "7/7 - 0s - loss: 0.5645 - accuracy: 0.8676 - val_loss: 1.3770 - val_accuracy: 0.5779 - 70ms/epoch - 10ms/step\n",
            "Epoch 70/100\n",
            "7/7 - 0s - loss: 0.5496 - accuracy: 0.8676 - val_loss: 1.4751 - val_accuracy: 0.5212 - 65ms/epoch - 9ms/step\n",
            "Epoch 71/100\n",
            "7/7 - 0s - loss: 0.5589 - accuracy: 0.8566 - val_loss: 1.4100 - val_accuracy: 0.5694 - 63ms/epoch - 9ms/step\n",
            "Epoch 72/100\n",
            "7/7 - 0s - loss: 0.5151 - accuracy: 0.8858 - val_loss: 1.4207 - val_accuracy: 0.5496 - 54ms/epoch - 8ms/step\n",
            "Epoch 73/100\n",
            "7/7 - 0s - loss: 0.5114 - accuracy: 0.8773 - val_loss: 1.4337 - val_accuracy: 0.5637 - 53ms/epoch - 8ms/step\n",
            "Epoch 74/100\n",
            "7/7 - 0s - loss: 0.5062 - accuracy: 0.8858 - val_loss: 1.4461 - val_accuracy: 0.5666 - 54ms/epoch - 8ms/step\n",
            "Epoch 75/100\n",
            "7/7 - 0s - loss: 0.5137 - accuracy: 0.8797 - val_loss: 1.4060 - val_accuracy: 0.5864 - 65ms/epoch - 9ms/step\n",
            "Epoch 76/100\n",
            "7/7 - 0s - loss: 0.4883 - accuracy: 0.8919 - val_loss: 1.3595 - val_accuracy: 0.5977 - 52ms/epoch - 7ms/step\n",
            "Epoch 77/100\n",
            "7/7 - 0s - loss: 0.4652 - accuracy: 0.9016 - val_loss: 1.4143 - val_accuracy: 0.5779 - 70ms/epoch - 10ms/step\n",
            "Epoch 78/100\n",
            "7/7 - 0s - loss: 0.4495 - accuracy: 0.9101 - val_loss: 1.4414 - val_accuracy: 0.5694 - 73ms/epoch - 10ms/step\n",
            "Epoch 79/100\n",
            "7/7 - 0s - loss: 0.4335 - accuracy: 0.9137 - val_loss: 1.4914 - val_accuracy: 0.5609 - 50ms/epoch - 7ms/step\n",
            "Epoch 80/100\n",
            "7/7 - 0s - loss: 0.4335 - accuracy: 0.9186 - val_loss: 1.4016 - val_accuracy: 0.5892 - 63ms/epoch - 9ms/step\n",
            "Epoch 81/100\n",
            "7/7 - 0s - loss: 0.4222 - accuracy: 0.9137 - val_loss: 1.4342 - val_accuracy: 0.5694 - 53ms/epoch - 8ms/step\n",
            "Epoch 82/100\n",
            "7/7 - 0s - loss: 0.4383 - accuracy: 0.9064 - val_loss: 1.4045 - val_accuracy: 0.5779 - 50ms/epoch - 7ms/step\n",
            "Epoch 83/100\n",
            "7/7 - 0s - loss: 0.4077 - accuracy: 0.9198 - val_loss: 1.3638 - val_accuracy: 0.6091 - 52ms/epoch - 7ms/step\n",
            "Epoch 84/100\n",
            "7/7 - 0s - loss: 0.3986 - accuracy: 0.9247 - val_loss: 1.4127 - val_accuracy: 0.5694 - 51ms/epoch - 7ms/step\n",
            "Epoch 85/100\n",
            "7/7 - 0s - loss: 0.3859 - accuracy: 0.9222 - val_loss: 1.4107 - val_accuracy: 0.5892 - 50ms/epoch - 7ms/step\n",
            "Epoch 86/100\n",
            "7/7 - 0s - loss: 0.3743 - accuracy: 0.9429 - val_loss: 1.4258 - val_accuracy: 0.5751 - 51ms/epoch - 7ms/step\n",
            "Epoch 87/100\n",
            "7/7 - 0s - loss: 0.3640 - accuracy: 0.9368 - val_loss: 1.3947 - val_accuracy: 0.5751 - 53ms/epoch - 8ms/step\n",
            "Epoch 88/100\n",
            "7/7 - 0s - loss: 0.3439 - accuracy: 0.9380 - val_loss: 1.4142 - val_accuracy: 0.5807 - 63ms/epoch - 9ms/step\n",
            "Epoch 89/100\n",
            "7/7 - 0s - loss: 0.3334 - accuracy: 0.9380 - val_loss: 1.4026 - val_accuracy: 0.5807 - 69ms/epoch - 10ms/step\n",
            "Epoch 90/100\n",
            "7/7 - 0s - loss: 0.3427 - accuracy: 0.9295 - val_loss: 1.3662 - val_accuracy: 0.5921 - 66ms/epoch - 9ms/step\n",
            "Epoch 91/100\n",
            "7/7 - 0s - loss: 0.3177 - accuracy: 0.9478 - val_loss: 1.4619 - val_accuracy: 0.5722 - 65ms/epoch - 9ms/step\n",
            "Epoch 92/100\n",
            "7/7 - 0s - loss: 0.3263 - accuracy: 0.9417 - val_loss: 1.3598 - val_accuracy: 0.6119 - 52ms/epoch - 7ms/step\n",
            "Epoch 93/100\n",
            "7/7 - 0s - loss: 0.3036 - accuracy: 0.9514 - val_loss: 1.3685 - val_accuracy: 0.6119 - 53ms/epoch - 8ms/step\n",
            "Epoch 94/100\n",
            "7/7 - 0s - loss: 0.2935 - accuracy: 0.9623 - val_loss: 1.3682 - val_accuracy: 0.6034 - 51ms/epoch - 7ms/step\n",
            "Epoch 95/100\n",
            "7/7 - 0s - loss: 0.2816 - accuracy: 0.9599 - val_loss: 1.4170 - val_accuracy: 0.5836 - 64ms/epoch - 9ms/step\n",
            "Epoch 96/100\n",
            "7/7 - 0s - loss: 0.2633 - accuracy: 0.9684 - val_loss: 1.3835 - val_accuracy: 0.5977 - 53ms/epoch - 8ms/step\n",
            "Epoch 97/100\n",
            "7/7 - 0s - loss: 0.2636 - accuracy: 0.9648 - val_loss: 1.4203 - val_accuracy: 0.6091 - 63ms/epoch - 9ms/step\n",
            "Epoch 98/100\n",
            "7/7 - 0s - loss: 0.2656 - accuracy: 0.9623 - val_loss: 1.4026 - val_accuracy: 0.6034 - 55ms/epoch - 8ms/step\n",
            "Epoch 99/100\n",
            "7/7 - 0s - loss: 0.2590 - accuracy: 0.9599 - val_loss: 1.4302 - val_accuracy: 0.5722 - 73ms/epoch - 10ms/step\n",
            "Epoch 100/100\n",
            "7/7 - 0s - loss: 0.2362 - accuracy: 0.9708 - val_loss: 1.4089 - val_accuracy: 0.5977 - 53ms/epoch - 8ms/step\n",
            "정확률= 59.7733736038208\n"
          ]
        }
      ]
    }
  ]
}